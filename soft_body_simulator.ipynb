{
 "cells": [
  {
   "cell_type": "markdown",
   "metadata": {},
   "source": [
    "# Soft Body Simulation"
   ]
  },
  {
   "cell_type": "markdown",
   "metadata": {},
   "source": [
    "# Point Mass Class"
   ]
  },
  {
   "cell_type": "code",
   "execution_count": null,
   "metadata": {},
   "outputs": [],
   "source": [
    "class point_mass:\n",
    "    def __init__(self, mass, x, y):\n",
    "        self.mass = mass\n",
    "        self.x = x\n",
    "        self.y = y\n",
    "        self.vx = 0\n",
    "        self.vy = 0\n",
    "    \n",
    "    def apply_F(self, Fx, Fy): \n",
    "        self.vy += Fy / self.mass\n",
    "        self.vx += Fx / self.mass\n",
    "\n",
    "    def update_pos(self):\n",
    "        self.x += self.vx\n",
    "        self.y += self.vy\n",
    "    "
   ]
  },
  {
   "cell_type": "markdown",
   "metadata": {},
   "source": [
    "### Spring Class"
   ]
  },
  {
   "cell_type": "markdown",
   "metadata": {},
   "source": [
    "#### <center>Hooke's Law defines the Spring Force as: </center>\n",
    "#### <center>F = -k * x</center>"
   ]
  },
  {
   "cell_type": "code",
   "execution_count": null,
   "metadata": {},
   "outputs": [],
   "source": [
    "class spring:\n",
    "    def __init__(self, pm_1, pm_2, k):\n",
    "        self.pm_structure = [pm_1, pm_2]\n",
    "        self.k = k\n",
    "        self.length = ((abs(pm_1.x - pm_2.x))**2 + (abs(pm_1.y - pm_2.y))**2)**0.5\n",
    "        self.x_length = (pm_1.x - pm_2.x)\n",
    "        self.y_length = (pm_1.y - pm_2.y)\n",
    "        self.Fx_spring = 0\n",
    "        self.Fy_spring = 0\n",
    "    \n",
    "    def find_Fspring(self):\n",
    "        stretched_x_length = self.pm_1.x - self.pm_2.x\n",
    "        stretched_y_length = self.pm_1.y - self.pm_2.y\n",
    "        delta_x = self.x_length - stretched_x_length\n",
    "        delta_y = self.y_length - stretched_y_length\n",
    "        self.Fx_spring = -self.k * (delta_x) # negative when spring is stretched (force points inwards); positive when spring compressed (force points outwards)\n",
    "        self.Fy_spring = -self.k * (delta_y)\n",
    "\n",
    "    def apply_Fspring(self):\n",
    "        self.find_Fspring()\n",
    "        self.pm_1.apply_F(self.Fx_spring, self.Fy_spring)\n",
    "        self.pm_2.apply_F(self.Fx_spring, self.Fy_spring)\n"
   ]
  },
  {
   "cell_type": "markdown",
   "metadata": {},
   "source": [
    "# Shapes"
   ]
  },
  {
   "cell_type": "code",
   "execution_count": null,
   "metadata": {},
   "outputs": [],
   "source": [
    "class Shape:\n",
    "    def __init__(self, x, y, mass, k):\n",
    "        self.x = x\n",
    "        self.y = y\n",
    "        self.mass = mass\n",
    "        self.k = k\n",
    "        self.pm_structure = []  \n",
    "        self.spring_structure = []  \n",
    "\n",
    "    def apply_Fgravity(self):\n",
    "        for pm in self.pm_structure:\n",
    "            Fx = 0\n",
    "            Fy = pm.mass * -9.81 # assuming we calculate Fy at each time set, t = 1\n",
    "            pm.apply_F(Fx, Fy)\n",
    "    \n",
    "\n",
    "    def check_springs(self):\n",
    "        for spring in self.spring_structure:\n",
    "            spring.find_Fspring()\n",
    "\n",
    "    def update_pos(self):\n",
    "        for pm in self.pm_structure:\n",
    "            pm.update_pos()\n",
    "    "
   ]
  },
  {
   "cell_type": "code",
   "execution_count": 18,
   "metadata": {},
   "outputs": [],
   "source": [
    "class Square(Shape):\n",
    "    def __init__(self, x, y, size, mass, k):\n",
    "        super().__init__(x, y, mass, k)\n",
    "        self.size = size\n",
    "        self.pm_structure = [point_mass((mass/4), (x-size), (y+size)), # top left square corner\n",
    "                                point_mass((mass/4), (x+size), (y+size)), # top right square corner\n",
    "                                point_mass((mass/4), (x+size), (y-size)), # bottom right square corner\n",
    "                                point_mass((mass/4), (x-size), (y-size)) # bottom left square corner\n",
    "                                ]\n",
    "        self.spring_structure = [spring(self.pm_structure[0], self.pm_structure[1], self.k), # spring connecting top left, top right\n",
    "                                 spring(self.pm_structure[1], self.pm_structure[2], self.k), # spring connecting top right, bottom right\n",
    "                                 spring(self.pm_structure[2],self. pm_structure[3], self.k), # spring connecting bottom right, bottom left\n",
    "                                 spring(self.pm_structure[3], self.pm_structure[0], self.k)] # spring connecting bottom left, top left\n",
    "\n",
    "class Triangle(Shape):\n",
    "    def __init__(self, x, y, size, mass, k):\n",
    "        super().__init__(x, y, mass, k)\n",
    "        self.size = size\n",
    "        self.pm_structure = [point_mass((mass/3), (x), (y + size)), # top point\n",
    "                                point_mass((mass/3), (x-(size/2)), (y)), # bottom left point\n",
    "                                point_mass((mass/3), (x+(size/2)), (y)) # bottom right point\n",
    "                            ]\n",
    "        self.spring_structure = [spring(self.pm_structure[0], self.pm_structure[1], self.k), # spring connecting top point, bottom left\n",
    "                                 spring(self.pm_structure[1], self.pm_structure[2], self.k), # spring connecting bottom left, bottom right\n",
    "                                 spring(self.pm_structure[2],self. pm_structure[0], self.k)] # spring connecting bottom right, top point\n",
    "\n"
   ]
  },
  {
   "cell_type": "markdown",
   "metadata": {},
   "source": [
    "# Main"
   ]
  }
 ],
 "metadata": {
  "kernelspec": {
   "display_name": "Python 3",
   "language": "python",
   "name": "python3"
  },
  "language_info": {
   "codemirror_mode": {
    "name": "ipython",
    "version": 3
   },
   "file_extension": ".py",
   "mimetype": "text/x-python",
   "name": "python",
   "nbconvert_exporter": "python",
   "pygments_lexer": "ipython3",
   "version": "3.10.4"
  }
 },
 "nbformat": 4,
 "nbformat_minor": 2
}
